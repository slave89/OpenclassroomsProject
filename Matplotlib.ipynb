{
  "nbformat": 4,
  "nbformat_minor": 0,
  "metadata": {
    "colab": {
      "name": "Matplotlib.ipynb",
      "provenance": [],
      "authorship_tag": "ABX9TyMeSb4aqyoX63qDYKtUTzIn",
      "include_colab_link": true
    },
    "kernelspec": {
      "name": "python3",
      "display_name": "Python 3"
    },
    "language_info": {
      "name": "python"
    }
  },
  "cells": [
    {
      "cell_type": "markdown",
      "metadata": {
        "id": "view-in-github",
        "colab_type": "text"
      },
      "source": [
        "<a href=\"https://colab.research.google.com/github/slave89/OpenclassroomsProject/blob/main/Matplotlib.ipynb\" target=\"_parent\"><img src=\"https://colab.research.google.com/assets/colab-badge.svg\" alt=\"Open In Colab\"/></a>"
      ]
    },
    {
      "cell_type": "code",
      "execution_count": 2,
      "metadata": {
        "id": "R-n3xYm8GpEU"
      },
      "outputs": [],
      "source": [
        "import numpy as np\n",
        "import matplotlib.pyplot as plt"
      ]
    },
    {
      "cell_type": "code",
      "source": [
        "a = np.linspace(0,10,11)"
      ],
      "metadata": {
        "id": "1Ws_CeSPHByP"
      },
      "execution_count": 3,
      "outputs": []
    },
    {
      "cell_type": "code",
      "source": [
        "b = a**4"
      ],
      "metadata": {
        "id": "0jQ-grf2HJxM"
      },
      "execution_count": 4,
      "outputs": []
    },
    {
      "cell_type": "code",
      "source": [
        "a"
      ],
      "metadata": {
        "colab": {
          "base_uri": "https://localhost:8080/"
        },
        "id": "dsHiBGGGHRHf",
        "outputId": "8b617ac1-e558-45c2-a548-97127b76b07c"
      },
      "execution_count": 5,
      "outputs": [
        {
          "output_type": "execute_result",
          "data": {
            "text/plain": [
              "array([ 0.,  1.,  2.,  3.,  4.,  5.,  6.,  7.,  8.,  9., 10.])"
            ]
          },
          "metadata": {},
          "execution_count": 5
        }
      ]
    },
    {
      "cell_type": "code",
      "source": [
        "b"
      ],
      "metadata": {
        "colab": {
          "base_uri": "https://localhost:8080/"
        },
        "id": "_r0PWXL-HRET",
        "outputId": "7e1732c0-9b60-4bda-bc0e-086e8cfa226c"
      },
      "execution_count": 6,
      "outputs": [
        {
          "output_type": "execute_result",
          "data": {
            "text/plain": [
              "array([0.000e+00, 1.000e+00, 1.600e+01, 8.100e+01, 2.560e+02, 6.250e+02,\n",
              "       1.296e+03, 2.401e+03, 4.096e+03, 6.561e+03, 1.000e+04])"
            ]
          },
          "metadata": {},
          "execution_count": 6
        }
      ]
    },
    {
      "cell_type": "code",
      "source": [
        "x = np.arange(0,10)\n",
        "y = 2*x"
      ],
      "metadata": {
        "id": "FPpl0sFcHRBW"
      },
      "execution_count": 7,
      "outputs": []
    },
    {
      "cell_type": "code",
      "source": [
        "x"
      ],
      "metadata": {
        "colab": {
          "base_uri": "https://localhost:8080/"
        },
        "id": "tQpkFjxpHQ-W",
        "outputId": "94c890f2-21f7-4c8c-973a-0997635a0417"
      },
      "execution_count": 8,
      "outputs": [
        {
          "output_type": "execute_result",
          "data": {
            "text/plain": [
              "array([0, 1, 2, 3, 4, 5, 6, 7, 8, 9])"
            ]
          },
          "metadata": {},
          "execution_count": 8
        }
      ]
    },
    {
      "cell_type": "code",
      "source": [
        "y"
      ],
      "metadata": {
        "colab": {
          "base_uri": "https://localhost:8080/"
        },
        "id": "h4XUu189HQ7M",
        "outputId": "ed3b20d4-9374-465d-a6be-e0084c5497b3"
      },
      "execution_count": 9,
      "outputs": [
        {
          "output_type": "execute_result",
          "data": {
            "text/plain": [
              "array([ 0,  2,  4,  6,  8, 10, 12, 14, 16, 18])"
            ]
          },
          "metadata": {},
          "execution_count": 9
        }
      ]
    },
    {
      "cell_type": "code",
      "source": [
        "fig = plt.figure()\n",
        "\n",
        "# Figure plus grande Axes1\n",
        "axes1 = fig.add_axes([0,0,1,1])\n",
        "axes1.plot(a,b)\n",
        "axes1.set_xlim(0,8)\n",
        "axes1.set_ylim(0,8000)\n",
        "axes1.set_xlabel('A')\n",
        "axes1.set_ylabel('B')\n",
        "axes1.set_title('Puissance 4 ')\n",
        "\n",
        "#Axes2 plus petit\n",
        "axes2= fig.add_axes([0.3,0.5,0.35,0.45])\n",
        "axes2.plot(a,b)\n",
        "axes2.set_xlim(1,2)\n",
        "axes2.set_ylim(0,50)\n",
        "axes2.set_xlabel('A')\n",
        "axes2.set_ylabel('B')\n",
        "axes2.set_title('Zoom en avant ')\n",
        "plt.show()"
      ],
      "metadata": {
        "colab": {
          "base_uri": "https://localhost:8080/",
          "height": 366
        },
        "id": "0YKq9ohKHQ4W",
        "outputId": "b02da2e0-44ea-4256-f3d1-464209b33ce5"
      },
      "execution_count": 10,
      "outputs": [
        {
          "output_type": "display_data",
          "data": {
            "text/plain": [
              "<Figure size 432x288 with 2 Axes>"
            ],
            "image/png": "[encoded data removed]"
          },
          "metadata": {
            "needs_background": "light"
          }
        }
      ]
    },
    {
      "cell_type": "code",
      "source": [
        "fig = plt.figure(dpi=100, figsize=(2,2))\n",
        "axes = fig.add_axes([0,0,1,1])\n",
        "axes.plot(a,b)\n",
        "\n",
        "fig.savefig('new_figure.png', bbox_inches='tight') # Méthode pour sauvegarder une image"
      ],
      "metadata": {
        "colab": {
          "base_uri": "https://localhost:8080/",
          "height": 260
        },
        "id": "mUZf51-KHQ1E",
        "outputId": "007554ed-3803-462f-eb8a-660df2a77917"
      },
      "execution_count": 14,
      "outputs": [
        {
          "output_type": "display_data",
          "data": {
            "text/plain": [
              "<Figure size 200x200 with 1 Axes>"
            ],
            "image/png": "[encoded data removed]"
          },
          "metadata": {
            "needs_background": "light"
          }
        }
      ]
    },
    {
      "cell_type": "markdown",
      "source": [
        "## Aligner plusieurs graphiques"
      ],
      "metadata": {
        "id": "SNtvlX1akKYR"
      }
    },
    {
      "cell_type": "code",
      "source": [
        "a = np.linspace(0,10,11)\n",
        "b = a**4"
      ],
      "metadata": {
        "id": "iZUfH6xVHQyV"
      },
      "execution_count": 38,
      "outputs": []
    },
    {
      "cell_type": "code",
      "source": [
        "x= np.arange(0,10)\n",
        "y = 2*x"
      ],
      "metadata": {
        "id": "OYojXriCHQvW"
      },
      "execution_count": 39,
      "outputs": []
    },
    {
      "cell_type": "code",
      "source": [
        "#fig,axes = plt.subplots(nrows=1,ncols=2)\n",
        "#axes[0].plot(x,y)\n",
        "#axes[1].plot(a,b)\n",
        "#plt.tight_layout()"
      ],
      "metadata": {
        "colab": {
          "base_uri": "https://localhost:8080/",
          "height": 297
        },
        "id": "Ljw8j8_CHQqM",
        "outputId": "b65aebe4-1bae-4fe2-faf7-3248a7067540"
      },
      "execution_count": 48,
      "outputs": [
        {
          "output_type": "display_data",
          "data": {
            "text/plain": [
              "<Figure size 432x288 with 2 Axes>"
            ],
            "image/png": "[encoded data removed]"
          },
          "metadata": {
            "needs_background": "light"
          }
        }
      ]
    },
    {
      "cell_type": "code",
      "source": [
        "from os import WSTOPSIG\n",
        "fig,axes = plt.subplots(nrows=2,ncols=2, figsize=(10,3),dpi=100)\n",
        "axes[0][0].plot(x,y) # On a un tableau à deux dimensions\n",
        "axes[0][1].plot(a,b) # l'indexation signifie première ligne et deuxième colonne\n",
        "axes[1][0].plot(a,b)\n",
        "axes[1][1].plot(x,y)\n",
        "fig.subplots_adjust(wspace=0.6,hspace=0.5) # Pour faire des espacements entre les parcelles de la figure"
      ],
      "metadata": {
        "colab": {
          "base_uri": "https://localhost:8080/",
          "height": 288
        },
        "id": "aVwiWQFYHQnK",
        "outputId": "f04e77d1-10ed-4adb-f951-967f01a65698"
      },
      "execution_count": 61,
      "outputs": [
        {
          "output_type": "display_data",
          "data": {
            "text/plain": [
              "<Figure size 1000x300 with 4 Axes>"
            ],
            "image/png": "[encoded data removed]"
          },
          "metadata": {
            "needs_background": "light"
          }
        }
      ]
    },
    {
      "cell_type": "code",
      "source": [
        ""
      ],
      "metadata": {
        "id": "LdRj6_pkHQkH"
      },
      "execution_count": null,
      "outputs": []
    },
    {
      "cell_type": "code",
      "source": [
        ""
      ],
      "metadata": {
        "id": "n_pHs2p7h5IO"
      },
      "execution_count": null,
      "outputs": []
    },
    {
      "cell_type": "code",
      "source": [
        ""
      ],
      "metadata": {
        "id": "O24n_cKuh5Fb"
      },
      "execution_count": null,
      "outputs": []
    },
    {
      "cell_type": "code",
      "source": [
        ""
      ],
      "metadata": {
        "id": "aZeKDdx5h5Cg"
      },
      "execution_count": null,
      "outputs": []
    },
    {
      "cell_type": "code",
      "source": [
        ""
      ],
      "metadata": {
        "id": "hIcZ_A39h4_b"
      },
      "execution_count": null,
      "outputs": []
    },
    {
      "cell_type": "code",
      "source": [
        ""
      ],
      "metadata": {
        "id": "M9opNlqVh485"
      },
      "execution_count": null,
      "outputs": []
    },
    {
      "cell_type": "code",
      "source": [
        ""
      ],
      "metadata": {
        "id": "-cHU6jWjh456"
      },
      "execution_count": null,
      "outputs": []
    },
    {
      "cell_type": "code",
      "source": [
        ""
      ],
      "metadata": {
        "id": "2iYHX9e7h40g"
      },
      "execution_count": null,
      "outputs": []
    },
    {
      "cell_type": "code",
      "source": [
        ""
      ],
      "metadata": {
        "id": "OAXoaVOxh4xZ"
      },
      "execution_count": null,
      "outputs": []
    },
    {
      "cell_type": "code",
      "source": [
        ""
      ],
      "metadata": {
        "id": "qyw7aukxh4u9"
      },
      "execution_count": null,
      "outputs": []
    }
  ]
}